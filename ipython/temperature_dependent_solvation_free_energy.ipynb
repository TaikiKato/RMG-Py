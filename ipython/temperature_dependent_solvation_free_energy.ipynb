{
 "cells": [
  {
   "cell_type": "markdown",
   "metadata": {},
   "source": [
    "# Temperature-dependent solvation free energy and vapor-liquid equilibrium calculations\n",
    "\n",
    "This ipython notebook calculates temperature-dependent solvation free energy and vapor-liquid equilibrium ratio for a dilue binary mixture at the saturation pressure of the solvent. Read documentation on solvation thermochemistry for detailed method (http://reactionmechanismgenerator.github.io/RMG-Py/users/rmg/liquids.html?highlight=liquid). Please cite our work in your publication:\n",
    "    \n",
    "    Chung, Y. & Gillis R. & Green W. H. (2020). Temperature dependent solvation free energy estimation from\n",
    "    minimal data. Manuscript submitted for publication. \n",
    "\n",
    "Code written by Yunsie Chung."
   ]
  },
  {
   "cell_type": "code",
   "execution_count": null,
   "metadata": {},
   "outputs": [],
   "source": [
    "import os.path\n",
    "import math\n",
    "import numpy as np\n",
    "import matplotlib.pyplot as plt\n",
    "from CoolProp.CoolProp import PropsSI\n",
    "\n",
    "from rmgpy import settings\n",
    "from rmgpy.rmg.main import Species\n",
    "from rmgpy.data.solvation import SolvationDatabase\n",
    "\n",
    "%matplotlib inline\n",
    "\n",
    "solvationDatabase = SolvationDatabase()\n",
    "solvationDatabase.load(os.path.join(settings['database.directory'], 'solvation'))"
   ]
  },
  {
   "cell_type": "markdown",
   "metadata": {},
   "source": [
    "# Initial setup to get the available solvent list and valid tempertaure range"
   ]
  },
  {
   "cell_type": "code",
   "execution_count": null,
   "metadata": {},
   "outputs": [],
   "source": [
    "print(\"Available solvents and their valid temperature ranges for T-dependent solvation calculation are:\\n\")\n",
    "\n",
    "for index, entry in solvationDatabase.libraries['solvent'].entries.items():\n",
    "    if entry.data.s_h is not None and entry.data.name_in_coolprop is not None:\n",
    "        Tc = \"%.2f\" % entry.data.get_solvent_critical_temperature()\n",
    "        print('     - ' + index + ': 280 K - {0} K'.format(Tc))"
   ]
  },
  {
   "cell_type": "markdown",
   "metadata": {},
   "source": [
    "# User Input: Solute SMILES, Solvent Name, and Temperature"
   ]
  },
  {
   "cell_type": "code",
   "execution_count": null,
   "metadata": {},
   "outputs": [],
   "source": [
    "################# Change these as needed ##########################\n",
    "solute_smiles = 'CC(C)O'            # most of solutes that contain only H, C, N, O, S are available\n",
    "solvent_name = 'water'              # this should one of the solvent name from the list above\n",
    "temprature = [300, 400, 500, 600]   # give temperature(s) in K. This should be within the valid range shown above\n",
    "###################################################################\n",
    "\n",
    "# Note: if you have your own Abraham parameters for the solute, add it to \n",
    "# RMG-database/input/solvation/libraries/solute.py as a new entry, and re-run this ipython notebook."
   ]
  },
  {
   "cell_type": "markdown",
   "metadata": {},
   "source": [
    "# Run solvation calculations"
   ]
  },
  {
   "cell_type": "code",
   "execution_count": null,
   "metadata": {},
   "outputs": [],
   "source": [
    "solute = Species().from_smiles(solute_smiles)\n",
    "solute.generate_resonance_structures()\n",
    "solute_data = solvationDatabase.get_solute_data(solute)\n",
    "solvent_data = solvationDatabase.get_solvent_data(solvent_name)\n",
    "\n",
    "print('Results are given in K-factor (VLE solute mole fraction ratio, y2/x2) and solvation free energy:\\n')\n",
    "for T in temprature:\n",
    "    Kfactor = solvationDatabase.get_Kfactor(solute_data, solvent_data, T)\n",
    "    dGsolv = solvationDatabase.get_T_dep_solvation_energy(solute_data, solvent_data, T) / 1000 # in kJ/mol\n",
    "    print('     At {0} K, K-factor = {1:.3f}, solvation free energy = {2:.2f} kJ/mol'.format(T, Kfactor, dGsolv))"
   ]
  },
  {
   "cell_type": "markdown",
   "metadata": {},
   "source": [
    "# Make useful plots from 280 K up to the critical point of the solvent"
   ]
  },
  {
   "cell_type": "code",
   "execution_count": null,
   "metadata": {},
   "outputs": [],
   "source": [
    "Tc = solvent_data.get_solvent_critical_temperature() # critical temperature of the solvent in K\n",
    "temp_list = np.linspace(280, Tc-0.01, 100)\n",
    "\n",
    "log_Kfactor_list = []\n",
    "log_KfactorPsat_list = []\n",
    "dGsolv_list = []\n",
    "\n",
    "for T in temp_list:\n",
    "    Kfactor = solvationDatabase.get_Kfactor(solute_data, solvent_data, T)\n",
    "    dGsolv = solvationDatabase.get_T_dep_solvation_energy(solute_data, solvent_data, T) / 1000 # in kJ/mol\n",
    "    Psat = PropsSI('P', 'T', T, 'Q', 0, solvent_data.name_in_coolprop) # saturation pressure of the solvent, in Pa\n",
    "    log_Kfactor_list.append(math.log(Kfactor))\n",
    "    log_KfactorPsat_list.append(math.log(Kfactor*Psat*1e-6)) # in ln(1/MPa)\n",
    "    dGsolv_list.append(dGsolv)"
   ]
  },
  {
   "cell_type": "code",
   "execution_count": null,
   "metadata": {},
   "outputs": [],
   "source": [
    "fig = plt.figure(figsize=(15, 15))\n",
    "ax = fig.add_subplot(2, 2, 1)\n",
    "plt.plot(temp_list, log_Kfactor_list)\n",
    "plt.title('ln(K-factor)', fontsize=20)\n",
    "ax.set_xlabel('Temperature (K)', fontsize = 16)\n",
    "ax.set_ylabel('ln($K_{2,1}^{\\infty}$)', fontsize = 16)\n",
    "\n",
    "ax = fig.add_subplot(2, 2, 2)\n",
    "plt.plot(temp_list, log_KfactorPsat_list)\n",
    "plt.title('ln(K-factor * $P^{sat}$)\\n$P^{sat}$ = saturation pressure of the solvent', fontsize=20)\n",
    "ax.set_xlabel('Temperature (K)', fontsize = 16)\n",
    "ax.set_ylabel('ln($K_{2,1}^{\\infty}P^{sat}$/1 MPa)', fontsize = 16)\n",
    "\n",
    "ax = fig.add_subplot(2, 2, 3)\n",
    "plt.plot(temp_list, dGsolv_list)\n",
    "plt.title('Solvation Gibbs Free Energy', fontsize=20)\n",
    "ax.set_xlabel('Temperature (K)', fontsize = 16)\n",
    "ax.set_ylabel('Solvation Energy (kJ/mol)', fontsize = 16)\n"
   ]
  }
 ],
 "metadata": {
  "kernelspec": {
   "display_name": "Python 3",
   "language": "python",
   "name": "python3"
  },
  "language_info": {
   "codemirror_mode": {
    "name": "ipython",
    "version": 3
   },
   "file_extension": ".py",
   "mimetype": "text/x-python",
   "name": "python",
   "nbconvert_exporter": "python",
   "pygments_lexer": "ipython3",
   "version": "3.7.4"
  }
 },
 "nbformat": 4,
 "nbformat_minor": 2
}
